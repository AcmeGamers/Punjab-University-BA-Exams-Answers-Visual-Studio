{
 "cells": [
  {
   "cell_type": "markdown",
   "metadata": {},
   "source": [
    "# Shah Wali Ullah (Page 45)"
   ]
  },
  {
   "cell_type": "markdown",
   "metadata": {},
   "source": [
    "## Background \n",
    "- His title was Quta-bin\n",
    "- He completed Quran while he was 7 years old\n",
    "- Taught in Mudarasa and became revolutionary\n",
    "\n",
    "## Circumstances\n",
    "- Mughal Empror (Aurangzeb) got weak \n",
    "- King's treasures was empty \n",
    "- Common was living in poverty \n",
    "- Muslims went astry from their true religion\n",
    "- Giving up genuine teachings of islam and adopted rituals of other relegions\n",
    "- False Sufis began to preach them to give them sturggles\n",
    "- Forgot the teachings of Tauheed\n",
    "- Lost confidence and faithfulness\n",
    "- Gave up Jahad\n",
    "- Lack of Educational system\n",
    "\n",
    "\n",
    "## Differneces\n",
    "- Muslims were in a disunity\n",
    "- There was no proper regulations \n",
    "- They grew weaker by time and was opressed by the King \n",
    "- They were not able to get proper education and jobs\n",
    "- They were not able to get proper health care or protection from the enemies\n",
    "\n",
    "## Plans\n",
    "- Highlighting problems for the Muslims such as the story of Hazarat Adam (R.A) where he ate the seed of the tree and was banished from the Jannah, and after repentence he was allowed to live in the Jannah.\n",
    "- He fixed the disunity among the Muslims with the help of Quran\n",
    "- He helped in making other realize that they all can be under one hood regardless of their creed, race, nature, culture, and language.\n",
    "- Movement to awake the muslims \n",
    "- - Develop\n",
    "- - Educate \n",
    "- - Organize\n",
    "\n",
    "## Services\n",
    "- Translation from Arbi to Persian \n",
    "- - This was so the people of the subcontient could understand the Quran in their mother language\n",
    "- Wrote a book about Islamic Teachings\n",
    "- Disliked the strict and blind following of laws\n",
    "- Purifing the idian Muslims\n",
    "- Wrote more than 50+ books\n",
    "- There should be competants muslim rulers by replacing incompitant ones\n",
    "- Equal distribution of revenue\n",
    "- There should be no interest \n",
    "- - Should give Zakat\n"
   ]
  },
  {
   "cell_type": "markdown",
   "metadata": {},
   "source": [
    "# Congress Ministeries 1397-1393 Policies Agaisnst Muslims"
   ]
  },
  {
   "cell_type": "markdown",
   "metadata": {},
   "source": [
    "## Summary\n",
    "\n",
    "India people are true represnetive of whole india of both muslime and ndia.\\n\",two parties \n",
    "- Congress\n",
    "- All india muslim league\n",
    "\n",
    "(All india muslim league) said they are representatives of whole muslimes and india are for both muslims and india\n",
    "\n",
    "Quaid-E-Azam said that they are going to be seats for both muslims and hindus. So britishers held a elections ine very provice. \n",
    "- Punab (got 2 seats for muslims)\n",
    "- up (muslim leagues, then congress)\n",
    "- cp (muslim leagues, then congress)\n",
    "- sindh (congress, then muslim legues)\n",
    "- bengal (muslim legues united with kesan party)\n",
    "- nwfp (congress, then muslim legues)\n",
    "- behar (muslim leagues, then congress) \n",
    "- orissa (muslim leagues, then congress)\n",
    "- asam (muslim leagues, then congress)\n",
    "- mumbai (muslim leagues, then congress)\n",
    "\n",
    "1939, India guys left their seats from all of their provicences slowly graudlaly and ww2 started.\n",
    "\n",
    "British were need of funds and Britishers were getting half of the revenue from Punjab and to make sure they dun lose Punjab, Britshers made one of the provinsional members and made him a Cabinet member."
   ]
  }
 ],
 "metadata": {
  "language_info": {
   "name": "python"
  },
  "orig_nbformat": 4
 },
 "nbformat": 4,
 "nbformat_minor": 2
}
