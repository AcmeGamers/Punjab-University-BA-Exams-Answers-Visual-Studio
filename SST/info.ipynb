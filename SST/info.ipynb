{
 "cells": [
  {
   "cell_type": "markdown",
   "metadata": {},
   "source": [
    "# Shah Wali Ullah (Page 45)"
   ]
  },
  {
   "cell_type": "markdown",
   "metadata": {},
   "source": [
    "## Background \n",
    "- His title was Quta-bin\n",
    "- He completed Quran while he was 7 years old\n",
    "- Taught in Mudarasa and became revolutionary\n",
    "\n",
    "## Circumstances\n",
    "- Mughal Empror (Aurangzeb) got weak \n",
    "- King's treasures was empty \n",
    "- Common was living in poverty \n",
    "- Muslims went astry from their true religion\n",
    "- Giving up genuine teachings of islam and adopted rituals of other relegions\n",
    "- False Sufis began to preach them to give them sturggles\n",
    "- Forgot the teachings of Tauheed\n",
    "- Lost confidence and faithfulness\n",
    "- Gave up Jahad\n",
    "- Lack of Educational system\n",
    "\n",
    "\n",
    "## Differneces\n",
    "- Muslims were in a disunity\n",
    "- There was no proper regulations \n",
    "- They grew weaker by time and was opressed by the King \n",
    "- They were not able to get proper education and jobs\n",
    "- They were not able to get proper health care or protection from the enemies\n",
    "\n",
    "## Plans\n",
    "- Highlighting problems for the Muslims such as the story of Hazarat Adam (R.A) where he ate the seed of the tree and was banished from the Jannah, and after repentence he was allowed to live in the Jannah.\n",
    "- He fixed the disunity among the Muslims with the help of Quran\n",
    "- He helped in making other realize that they all can be under one hood regardless of their creed, race, nature, culture, and language.\n",
    "- Movement to awake the muslims \n",
    "- - Develop\n",
    "- - Educate \n",
    "- - Organize\n",
    "\n",
    "## Services\n",
    "- Translation from Arbi to Persian \n",
    "- - This was so the people of the subcontient could understand the Quran in their mother language\n",
    "- Wrote a book about Islamic Teachings\n",
    "- Disliked the strict and blind following of laws\n",
    "- Purifing the idian Muslims\n",
    "- Wrote more than 50+ books\n",
    "\n"
   ]
  }
 ],
 "metadata": {
  "language_info": {
   "name": "python"
  },
  "orig_nbformat": 4
 },
 "nbformat": 4,
 "nbformat_minor": 2
}
